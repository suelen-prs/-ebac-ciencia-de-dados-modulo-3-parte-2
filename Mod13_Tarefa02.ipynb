{
  "cells": [
    {
      "cell_type": "markdown",
      "metadata": {
        "id": "view-in-github",
        "colab_type": "text"
      },
      "source": [
        "<a href=\"https://colab.research.google.com/github/suelen-prs/-ebac-ciencia-de-dados-modulo-3-parte-2/blob/master/Mod13_Tarefa02.ipynb\" target=\"_parent\"><img src=\"https://colab.research.google.com/assets/colab-badge.svg\" alt=\"Open In Colab\"/></a>"
      ]
    },
    {
      "cell_type": "markdown",
      "metadata": {
        "id": "PAw2tjfQ-h30"
      },
      "source": [
        "# EBAC - Regressão II - regressão múltipla\n",
        "\n",
        "## Tarefa I"
      ]
    },
    {
      "cell_type": "markdown",
      "metadata": {
        "id": "-m7MT6k--h34"
      },
      "source": [
        "#### Previsão de renda II\n",
        "\n",
        "Vamos continuar trabalhando com a base 'previsao_de_renda.csv', que é a base do seu próximo projeto. Vamos usar os recursos que vimos até aqui nesta base.\n",
        "\n",
        "|variavel|descrição|\n",
        "|-|-|\n",
        "|data_ref                | Data de referência de coleta das variáveis |\n",
        "|index                   | Código de identificação do cliente|\n",
        "|sexo                    | Sexo do cliente|\n",
        "|posse_de_veiculo        | Indica se o cliente possui veículo|\n",
        "|posse_de_imovel         | Indica se o cliente possui imóvel|\n",
        "|qtd_filhos              | Quantidade de filhos do cliente|\n",
        "|tipo_renda              | Tipo de renda do cliente|\n",
        "|educacao                | Grau de instrução do cliente|\n",
        "|estado_civil            | Estado civil do cliente|\n",
        "|tipo_residencia         | Tipo de residência do cliente (própria, alugada etc)|\n",
        "|idade                   | Idade do cliente|\n",
        "|tempo_emprego           | Tempo no emprego atual|\n",
        "|qt_pessoas_residencia   | Quantidade de pessoas que moram na residência|\n",
        "|renda                   | Renda em reais|"
      ]
    },
    {
      "cell_type": "code",
      "execution_count": 9,
      "metadata": {
        "id": "Op5yI_T_-h35"
      },
      "outputs": [],
      "source": [
        "import graphviz\n",
        "\n",
        "import pandas as pd\n",
        "import seaborn as sns\n",
        "from seaborn import load_dataset\n",
        "import matplotlib.pyplot as plt\n",
        "import seaborn as sns\n",
        "import numpy as np\n",
        "\n",
        "import patsy\n",
        "import statsmodels.api as sm\n",
        "import statsmodels.formula.api as smf\n",
        "\n",
        "from sklearn.linear_model import Ridge, Lasso\n",
        "from sklearn.metrics import r2_score\n",
        "from sklearn.preprocessing import OneHotEncoder\n",
        "from sklearn.model_selection import train_test_split"
      ]
    },
    {
      "cell_type": "code",
      "execution_count": 41,
      "metadata": {
        "id": "_UOjhX2R-h36"
      },
      "outputs": [],
      "source": [
        "df = pd.read_csv('previsao_de_renda.csv')"
      ]
    },
    {
      "cell_type": "code",
      "source": [
        "df.drop('Unnamed: 0', axis=1, inplace=True)"
      ],
      "metadata": {
        "id": "DQQNKsPLC7-0"
      },
      "execution_count": 42,
      "outputs": []
    },
    {
      "cell_type": "code",
      "execution_count": 43,
      "metadata": {
        "colab": {
          "base_uri": "https://localhost:8080/"
        },
        "id": "VazKQpH--h36",
        "outputId": "8330cafd-e9c5-40f8-e983-f6940ab5c234"
      },
      "outputs": [
        {
          "output_type": "stream",
          "name": "stdout",
          "text": [
            "<class 'pandas.core.frame.DataFrame'>\n",
            "RangeIndex: 15000 entries, 0 to 14999\n",
            "Data columns (total 15 columns):\n",
            " #   Column                 Non-Null Count  Dtype  \n",
            "---  ------                 --------------  -----  \n",
            " 0   data_ref               15000 non-null  object \n",
            " 1   index                  15000 non-null  int64  \n",
            " 2   sexo                   15000 non-null  object \n",
            " 3   posse_de_veiculo       15000 non-null  bool   \n",
            " 4   posse_de_imovel        15000 non-null  bool   \n",
            " 5   qtd_filhos             15000 non-null  int64  \n",
            " 6   tipo_renda             15000 non-null  object \n",
            " 7   educacao               15000 non-null  object \n",
            " 8   estado_civil           15000 non-null  object \n",
            " 9   tipo_residencia        15000 non-null  object \n",
            " 10  idade                  15000 non-null  int64  \n",
            " 11  tempo_emprego          12466 non-null  float64\n",
            " 12  qt_pessoas_residencia  15000 non-null  float64\n",
            " 13  mau                    15000 non-null  bool   \n",
            " 14  renda                  15000 non-null  float64\n",
            "dtypes: bool(3), float64(3), int64(3), object(6)\n",
            "memory usage: 1.4+ MB\n"
          ]
        }
      ],
      "source": [
        "df.info()"
      ]
    },
    {
      "cell_type": "markdown",
      "metadata": {
        "id": "84lvhI6X-h37"
      },
      "source": [
        "1. Separe a base em treinamento e teste (25% para teste, 75% para treinamento).\n",
        "2. Rode uma regularização *ridge* com alpha = [0, 0.001, 0.005, 0.01, 0.05, 0.1] e avalie o $R^2$ na base de testes. Qual o melhor modelo?\n",
        "3. Faça o mesmo que no passo 2, com uma regressão *LASSO*. Qual método chega a um melhor resultado?\n",
        "4. Rode um modelo *stepwise*. Avalie o $R^2$ na vase de testes. Qual o melhor resultado?\n",
        "5. Compare os parâmetros e avalie eventuais diferenças. Qual modelo você acha o melhor de todos?\n",
        "6. Partindo dos modelos que você ajustou, tente melhorar o $R^2$ na base de testes. Use a criatividade, veja se consegue inserir alguma transformação ou combinação de variáveis.\n",
        "7. Ajuste uma árvore de regressão e veja se consegue um $R^2$ melhor com ela."
      ]
    },
    {
      "cell_type": "code",
      "execution_count": 44,
      "metadata": {
        "colab": {
          "base_uri": "https://localhost:8080/",
          "height": 1000
        },
        "id": "4jmrvpxs-h39",
        "outputId": "efb58773-a460-48f9-abb4-091181415377"
      },
      "outputs": [
        {
          "output_type": "execute_result",
          "data": {
            "text/plain": [
              "      data_ref  index sexo  posse_de_veiculo  posse_de_imovel  qtd_filhos  \\\n",
              "0   2015-01-01   8682    F             False             True           1   \n",
              "1   2015-01-01  12830    M              True             True           0   \n",
              "2   2015-01-01   2885    M              True             True           2   \n",
              "3   2015-01-01  16168    F              True            False           0   \n",
              "4   2015-01-01  12438    M             False            False           0   \n",
              "5   2015-01-01   7409    M             False             True           0   \n",
              "6   2015-01-01   6913    F             False             True           0   \n",
              "7   2015-01-01  13047    M              True             True           0   \n",
              "8   2015-01-01   4529    F             False            False           0   \n",
              "9   2015-01-01  14646    F             False             True           2   \n",
              "10  2015-01-01   8550    F             False             True           0   \n",
              "11  2015-01-01   1591    F              True             True           1   \n",
              "12  2015-01-01   5090    M              True             True           2   \n",
              "13  2015-01-01   3906    F             False             True           0   \n",
              "14  2015-01-01  13629    F             False             True           0   \n",
              "15  2015-01-01   5732    F             False            False           1   \n",
              "16  2015-01-01    535    F              True             True           1   \n",
              "17  2015-01-01  10668    M              True             True           1   \n",
              "18  2015-01-01   4323    M              True             True           0   \n",
              "19  2015-01-01   1860    M              True             True           0   \n",
              "\n",
              "          tipo_renda             educacao estado_civil tipo_residencia  idade  \\\n",
              "0        Assalariado           Secundário       Casado            Casa     36   \n",
              "1         Empresário           Secundário       Casado            Casa     42   \n",
              "2        Assalariado    Superior completo       Casado            Casa     31   \n",
              "3         Empresário           Secundário       Casado            Casa     50   \n",
              "4        Assalariado           Secundário       Casado            Casa     52   \n",
              "5        Assalariado  Superior incompleto       Casado            Casa     46   \n",
              "6        Assalariado           Secundário       Casado            Casa     51   \n",
              "7         Empresário           Secundário       Casado            Casa     24   \n",
              "8        Assalariado           Secundário       Casado            Casa     53   \n",
              "9   Servidor público           Secundário        União            Casa     34   \n",
              "10       Assalariado    Superior completo       Casado            Casa     35   \n",
              "11        Empresário    Superior completo       Casado            Casa     31   \n",
              "12       Pensionista             Primário       Casado            Casa     60   \n",
              "13  Servidor público           Secundário        União            Casa     50   \n",
              "14       Assalariado           Secundário     Solteiro            Casa     46   \n",
              "15  Servidor público           Secundário     Solteiro            Casa     42   \n",
              "16        Empresário           Secundário       Casado            Casa     41   \n",
              "17       Assalariado    Superior completo     Separado            Casa     44   \n",
              "18       Assalariado           Secundário       Casado            Casa     33   \n",
              "19       Pensionista    Superior completo       Casado            Casa     64   \n",
              "\n",
              "    tempo_emprego  qt_pessoas_residencia    mau    renda  \n",
              "0        3.575342                    3.0  False  3369.24  \n",
              "1        0.860274                    2.0  False  6096.14  \n",
              "2        8.065753                    4.0  False  5658.98  \n",
              "3        1.208219                    2.0  False  7246.69  \n",
              "4       13.873973                    2.0  False  4017.37  \n",
              "5       15.561644                    2.0  False  5483.58  \n",
              "6        5.046575                    2.0  False  1947.99  \n",
              "7        1.591781                    2.0  False  7781.51  \n",
              "8        3.430137                    2.0  False  5577.82  \n",
              "9        7.219178                    4.0  False   803.34  \n",
              "10       5.638356                    2.0  False  3109.79  \n",
              "11       4.479452                    3.0  False  2779.67  \n",
              "12            NaN                    4.0  False  5114.70  \n",
              "13      16.528767                    2.0  False  4640.47  \n",
              "14       7.934247                    1.0  False  1055.14  \n",
              "15       5.542466                    2.0  False  1728.33  \n",
              "16       5.358904                    3.0  False  1934.80  \n",
              "17       6.934247                    2.0  False  3939.28  \n",
              "18       4.008219                    2.0  False  4787.86  \n",
              "19            NaN                    2.0  False  4501.53  "
            ],
            "text/html": [
              "\n",
              "  <div id=\"df-a5ffacac-32b8-44db-8827-ea73407da393\" class=\"colab-df-container\">\n",
              "    <div>\n",
              "<style scoped>\n",
              "    .dataframe tbody tr th:only-of-type {\n",
              "        vertical-align: middle;\n",
              "    }\n",
              "\n",
              "    .dataframe tbody tr th {\n",
              "        vertical-align: top;\n",
              "    }\n",
              "\n",
              "    .dataframe thead th {\n",
              "        text-align: right;\n",
              "    }\n",
              "</style>\n",
              "<table border=\"1\" class=\"dataframe\">\n",
              "  <thead>\n",
              "    <tr style=\"text-align: right;\">\n",
              "      <th></th>\n",
              "      <th>data_ref</th>\n",
              "      <th>index</th>\n",
              "      <th>sexo</th>\n",
              "      <th>posse_de_veiculo</th>\n",
              "      <th>posse_de_imovel</th>\n",
              "      <th>qtd_filhos</th>\n",
              "      <th>tipo_renda</th>\n",
              "      <th>educacao</th>\n",
              "      <th>estado_civil</th>\n",
              "      <th>tipo_residencia</th>\n",
              "      <th>idade</th>\n",
              "      <th>tempo_emprego</th>\n",
              "      <th>qt_pessoas_residencia</th>\n",
              "      <th>mau</th>\n",
              "      <th>renda</th>\n",
              "    </tr>\n",
              "  </thead>\n",
              "  <tbody>\n",
              "    <tr>\n",
              "      <th>0</th>\n",
              "      <td>2015-01-01</td>\n",
              "      <td>8682</td>\n",
              "      <td>F</td>\n",
              "      <td>False</td>\n",
              "      <td>True</td>\n",
              "      <td>1</td>\n",
              "      <td>Assalariado</td>\n",
              "      <td>Secundário</td>\n",
              "      <td>Casado</td>\n",
              "      <td>Casa</td>\n",
              "      <td>36</td>\n",
              "      <td>3.575342</td>\n",
              "      <td>3.0</td>\n",
              "      <td>False</td>\n",
              "      <td>3369.24</td>\n",
              "    </tr>\n",
              "    <tr>\n",
              "      <th>1</th>\n",
              "      <td>2015-01-01</td>\n",
              "      <td>12830</td>\n",
              "      <td>M</td>\n",
              "      <td>True</td>\n",
              "      <td>True</td>\n",
              "      <td>0</td>\n",
              "      <td>Empresário</td>\n",
              "      <td>Secundário</td>\n",
              "      <td>Casado</td>\n",
              "      <td>Casa</td>\n",
              "      <td>42</td>\n",
              "      <td>0.860274</td>\n",
              "      <td>2.0</td>\n",
              "      <td>False</td>\n",
              "      <td>6096.14</td>\n",
              "    </tr>\n",
              "    <tr>\n",
              "      <th>2</th>\n",
              "      <td>2015-01-01</td>\n",
              "      <td>2885</td>\n",
              "      <td>M</td>\n",
              "      <td>True</td>\n",
              "      <td>True</td>\n",
              "      <td>2</td>\n",
              "      <td>Assalariado</td>\n",
              "      <td>Superior completo</td>\n",
              "      <td>Casado</td>\n",
              "      <td>Casa</td>\n",
              "      <td>31</td>\n",
              "      <td>8.065753</td>\n",
              "      <td>4.0</td>\n",
              "      <td>False</td>\n",
              "      <td>5658.98</td>\n",
              "    </tr>\n",
              "    <tr>\n",
              "      <th>3</th>\n",
              "      <td>2015-01-01</td>\n",
              "      <td>16168</td>\n",
              "      <td>F</td>\n",
              "      <td>True</td>\n",
              "      <td>False</td>\n",
              "      <td>0</td>\n",
              "      <td>Empresário</td>\n",
              "      <td>Secundário</td>\n",
              "      <td>Casado</td>\n",
              "      <td>Casa</td>\n",
              "      <td>50</td>\n",
              "      <td>1.208219</td>\n",
              "      <td>2.0</td>\n",
              "      <td>False</td>\n",
              "      <td>7246.69</td>\n",
              "    </tr>\n",
              "    <tr>\n",
              "      <th>4</th>\n",
              "      <td>2015-01-01</td>\n",
              "      <td>12438</td>\n",
              "      <td>M</td>\n",
              "      <td>False</td>\n",
              "      <td>False</td>\n",
              "      <td>0</td>\n",
              "      <td>Assalariado</td>\n",
              "      <td>Secundário</td>\n",
              "      <td>Casado</td>\n",
              "      <td>Casa</td>\n",
              "      <td>52</td>\n",
              "      <td>13.873973</td>\n",
              "      <td>2.0</td>\n",
              "      <td>False</td>\n",
              "      <td>4017.37</td>\n",
              "    </tr>\n",
              "    <tr>\n",
              "      <th>5</th>\n",
              "      <td>2015-01-01</td>\n",
              "      <td>7409</td>\n",
              "      <td>M</td>\n",
              "      <td>False</td>\n",
              "      <td>True</td>\n",
              "      <td>0</td>\n",
              "      <td>Assalariado</td>\n",
              "      <td>Superior incompleto</td>\n",
              "      <td>Casado</td>\n",
              "      <td>Casa</td>\n",
              "      <td>46</td>\n",
              "      <td>15.561644</td>\n",
              "      <td>2.0</td>\n",
              "      <td>False</td>\n",
              "      <td>5483.58</td>\n",
              "    </tr>\n",
              "    <tr>\n",
              "      <th>6</th>\n",
              "      <td>2015-01-01</td>\n",
              "      <td>6913</td>\n",
              "      <td>F</td>\n",
              "      <td>False</td>\n",
              "      <td>True</td>\n",
              "      <td>0</td>\n",
              "      <td>Assalariado</td>\n",
              "      <td>Secundário</td>\n",
              "      <td>Casado</td>\n",
              "      <td>Casa</td>\n",
              "      <td>51</td>\n",
              "      <td>5.046575</td>\n",
              "      <td>2.0</td>\n",
              "      <td>False</td>\n",
              "      <td>1947.99</td>\n",
              "    </tr>\n",
              "    <tr>\n",
              "      <th>7</th>\n",
              "      <td>2015-01-01</td>\n",
              "      <td>13047</td>\n",
              "      <td>M</td>\n",
              "      <td>True</td>\n",
              "      <td>True</td>\n",
              "      <td>0</td>\n",
              "      <td>Empresário</td>\n",
              "      <td>Secundário</td>\n",
              "      <td>Casado</td>\n",
              "      <td>Casa</td>\n",
              "      <td>24</td>\n",
              "      <td>1.591781</td>\n",
              "      <td>2.0</td>\n",
              "      <td>False</td>\n",
              "      <td>7781.51</td>\n",
              "    </tr>\n",
              "    <tr>\n",
              "      <th>8</th>\n",
              "      <td>2015-01-01</td>\n",
              "      <td>4529</td>\n",
              "      <td>F</td>\n",
              "      <td>False</td>\n",
              "      <td>False</td>\n",
              "      <td>0</td>\n",
              "      <td>Assalariado</td>\n",
              "      <td>Secundário</td>\n",
              "      <td>Casado</td>\n",
              "      <td>Casa</td>\n",
              "      <td>53</td>\n",
              "      <td>3.430137</td>\n",
              "      <td>2.0</td>\n",
              "      <td>False</td>\n",
              "      <td>5577.82</td>\n",
              "    </tr>\n",
              "    <tr>\n",
              "      <th>9</th>\n",
              "      <td>2015-01-01</td>\n",
              "      <td>14646</td>\n",
              "      <td>F</td>\n",
              "      <td>False</td>\n",
              "      <td>True</td>\n",
              "      <td>2</td>\n",
              "      <td>Servidor público</td>\n",
              "      <td>Secundário</td>\n",
              "      <td>União</td>\n",
              "      <td>Casa</td>\n",
              "      <td>34</td>\n",
              "      <td>7.219178</td>\n",
              "      <td>4.0</td>\n",
              "      <td>False</td>\n",
              "      <td>803.34</td>\n",
              "    </tr>\n",
              "    <tr>\n",
              "      <th>10</th>\n",
              "      <td>2015-01-01</td>\n",
              "      <td>8550</td>\n",
              "      <td>F</td>\n",
              "      <td>False</td>\n",
              "      <td>True</td>\n",
              "      <td>0</td>\n",
              "      <td>Assalariado</td>\n",
              "      <td>Superior completo</td>\n",
              "      <td>Casado</td>\n",
              "      <td>Casa</td>\n",
              "      <td>35</td>\n",
              "      <td>5.638356</td>\n",
              "      <td>2.0</td>\n",
              "      <td>False</td>\n",
              "      <td>3109.79</td>\n",
              "    </tr>\n",
              "    <tr>\n",
              "      <th>11</th>\n",
              "      <td>2015-01-01</td>\n",
              "      <td>1591</td>\n",
              "      <td>F</td>\n",
              "      <td>True</td>\n",
              "      <td>True</td>\n",
              "      <td>1</td>\n",
              "      <td>Empresário</td>\n",
              "      <td>Superior completo</td>\n",
              "      <td>Casado</td>\n",
              "      <td>Casa</td>\n",
              "      <td>31</td>\n",
              "      <td>4.479452</td>\n",
              "      <td>3.0</td>\n",
              "      <td>False</td>\n",
              "      <td>2779.67</td>\n",
              "    </tr>\n",
              "    <tr>\n",
              "      <th>12</th>\n",
              "      <td>2015-01-01</td>\n",
              "      <td>5090</td>\n",
              "      <td>M</td>\n",
              "      <td>True</td>\n",
              "      <td>True</td>\n",
              "      <td>2</td>\n",
              "      <td>Pensionista</td>\n",
              "      <td>Primário</td>\n",
              "      <td>Casado</td>\n",
              "      <td>Casa</td>\n",
              "      <td>60</td>\n",
              "      <td>NaN</td>\n",
              "      <td>4.0</td>\n",
              "      <td>False</td>\n",
              "      <td>5114.70</td>\n",
              "    </tr>\n",
              "    <tr>\n",
              "      <th>13</th>\n",
              "      <td>2015-01-01</td>\n",
              "      <td>3906</td>\n",
              "      <td>F</td>\n",
              "      <td>False</td>\n",
              "      <td>True</td>\n",
              "      <td>0</td>\n",
              "      <td>Servidor público</td>\n",
              "      <td>Secundário</td>\n",
              "      <td>União</td>\n",
              "      <td>Casa</td>\n",
              "      <td>50</td>\n",
              "      <td>16.528767</td>\n",
              "      <td>2.0</td>\n",
              "      <td>False</td>\n",
              "      <td>4640.47</td>\n",
              "    </tr>\n",
              "    <tr>\n",
              "      <th>14</th>\n",
              "      <td>2015-01-01</td>\n",
              "      <td>13629</td>\n",
              "      <td>F</td>\n",
              "      <td>False</td>\n",
              "      <td>True</td>\n",
              "      <td>0</td>\n",
              "      <td>Assalariado</td>\n",
              "      <td>Secundário</td>\n",
              "      <td>Solteiro</td>\n",
              "      <td>Casa</td>\n",
              "      <td>46</td>\n",
              "      <td>7.934247</td>\n",
              "      <td>1.0</td>\n",
              "      <td>False</td>\n",
              "      <td>1055.14</td>\n",
              "    </tr>\n",
              "    <tr>\n",
              "      <th>15</th>\n",
              "      <td>2015-01-01</td>\n",
              "      <td>5732</td>\n",
              "      <td>F</td>\n",
              "      <td>False</td>\n",
              "      <td>False</td>\n",
              "      <td>1</td>\n",
              "      <td>Servidor público</td>\n",
              "      <td>Secundário</td>\n",
              "      <td>Solteiro</td>\n",
              "      <td>Casa</td>\n",
              "      <td>42</td>\n",
              "      <td>5.542466</td>\n",
              "      <td>2.0</td>\n",
              "      <td>False</td>\n",
              "      <td>1728.33</td>\n",
              "    </tr>\n",
              "    <tr>\n",
              "      <th>16</th>\n",
              "      <td>2015-01-01</td>\n",
              "      <td>535</td>\n",
              "      <td>F</td>\n",
              "      <td>True</td>\n",
              "      <td>True</td>\n",
              "      <td>1</td>\n",
              "      <td>Empresário</td>\n",
              "      <td>Secundário</td>\n",
              "      <td>Casado</td>\n",
              "      <td>Casa</td>\n",
              "      <td>41</td>\n",
              "      <td>5.358904</td>\n",
              "      <td>3.0</td>\n",
              "      <td>False</td>\n",
              "      <td>1934.80</td>\n",
              "    </tr>\n",
              "    <tr>\n",
              "      <th>17</th>\n",
              "      <td>2015-01-01</td>\n",
              "      <td>10668</td>\n",
              "      <td>M</td>\n",
              "      <td>True</td>\n",
              "      <td>True</td>\n",
              "      <td>1</td>\n",
              "      <td>Assalariado</td>\n",
              "      <td>Superior completo</td>\n",
              "      <td>Separado</td>\n",
              "      <td>Casa</td>\n",
              "      <td>44</td>\n",
              "      <td>6.934247</td>\n",
              "      <td>2.0</td>\n",
              "      <td>False</td>\n",
              "      <td>3939.28</td>\n",
              "    </tr>\n",
              "    <tr>\n",
              "      <th>18</th>\n",
              "      <td>2015-01-01</td>\n",
              "      <td>4323</td>\n",
              "      <td>M</td>\n",
              "      <td>True</td>\n",
              "      <td>True</td>\n",
              "      <td>0</td>\n",
              "      <td>Assalariado</td>\n",
              "      <td>Secundário</td>\n",
              "      <td>Casado</td>\n",
              "      <td>Casa</td>\n",
              "      <td>33</td>\n",
              "      <td>4.008219</td>\n",
              "      <td>2.0</td>\n",
              "      <td>False</td>\n",
              "      <td>4787.86</td>\n",
              "    </tr>\n",
              "    <tr>\n",
              "      <th>19</th>\n",
              "      <td>2015-01-01</td>\n",
              "      <td>1860</td>\n",
              "      <td>M</td>\n",
              "      <td>True</td>\n",
              "      <td>True</td>\n",
              "      <td>0</td>\n",
              "      <td>Pensionista</td>\n",
              "      <td>Superior completo</td>\n",
              "      <td>Casado</td>\n",
              "      <td>Casa</td>\n",
              "      <td>64</td>\n",
              "      <td>NaN</td>\n",
              "      <td>2.0</td>\n",
              "      <td>False</td>\n",
              "      <td>4501.53</td>\n",
              "    </tr>\n",
              "  </tbody>\n",
              "</table>\n",
              "</div>\n",
              "    <div class=\"colab-df-buttons\">\n",
              "\n",
              "  <div class=\"colab-df-container\">\n",
              "    <button class=\"colab-df-convert\" onclick=\"convertToInteractive('df-a5ffacac-32b8-44db-8827-ea73407da393')\"\n",
              "            title=\"Convert this dataframe to an interactive table.\"\n",
              "            style=\"display:none;\">\n",
              "\n",
              "  <svg xmlns=\"http://www.w3.org/2000/svg\" height=\"24px\" viewBox=\"0 -960 960 960\">\n",
              "    <path d=\"M120-120v-720h720v720H120Zm60-500h600v-160H180v160Zm220 220h160v-160H400v160Zm0 220h160v-160H400v160ZM180-400h160v-160H180v160Zm440 0h160v-160H620v160ZM180-180h160v-160H180v160Zm440 0h160v-160H620v160Z\"/>\n",
              "  </svg>\n",
              "    </button>\n",
              "\n",
              "  <style>\n",
              "    .colab-df-container {\n",
              "      display:flex;\n",
              "      gap: 12px;\n",
              "    }\n",
              "\n",
              "    .colab-df-convert {\n",
              "      background-color: #E8F0FE;\n",
              "      border: none;\n",
              "      border-radius: 50%;\n",
              "      cursor: pointer;\n",
              "      display: none;\n",
              "      fill: #1967D2;\n",
              "      height: 32px;\n",
              "      padding: 0 0 0 0;\n",
              "      width: 32px;\n",
              "    }\n",
              "\n",
              "    .colab-df-convert:hover {\n",
              "      background-color: #E2EBFA;\n",
              "      box-shadow: 0px 1px 2px rgba(60, 64, 67, 0.3), 0px 1px 3px 1px rgba(60, 64, 67, 0.15);\n",
              "      fill: #174EA6;\n",
              "    }\n",
              "\n",
              "    .colab-df-buttons div {\n",
              "      margin-bottom: 4px;\n",
              "    }\n",
              "\n",
              "    [theme=dark] .colab-df-convert {\n",
              "      background-color: #3B4455;\n",
              "      fill: #D2E3FC;\n",
              "    }\n",
              "\n",
              "    [theme=dark] .colab-df-convert:hover {\n",
              "      background-color: #434B5C;\n",
              "      box-shadow: 0px 1px 3px 1px rgba(0, 0, 0, 0.15);\n",
              "      filter: drop-shadow(0px 1px 2px rgba(0, 0, 0, 0.3));\n",
              "      fill: #FFFFFF;\n",
              "    }\n",
              "  </style>\n",
              "\n",
              "    <script>\n",
              "      const buttonEl =\n",
              "        document.querySelector('#df-a5ffacac-32b8-44db-8827-ea73407da393 button.colab-df-convert');\n",
              "      buttonEl.style.display =\n",
              "        google.colab.kernel.accessAllowed ? 'block' : 'none';\n",
              "\n",
              "      async function convertToInteractive(key) {\n",
              "        const element = document.querySelector('#df-a5ffacac-32b8-44db-8827-ea73407da393');\n",
              "        const dataTable =\n",
              "          await google.colab.kernel.invokeFunction('convertToInteractive',\n",
              "                                                    [key], {});\n",
              "        if (!dataTable) return;\n",
              "\n",
              "        const docLinkHtml = 'Like what you see? Visit the ' +\n",
              "          '<a target=\"_blank\" href=https://colab.research.google.com/notebooks/data_table.ipynb>data table notebook</a>'\n",
              "          + ' to learn more about interactive tables.';\n",
              "        element.innerHTML = '';\n",
              "        dataTable['output_type'] = 'display_data';\n",
              "        await google.colab.output.renderOutput(dataTable, element);\n",
              "        const docLink = document.createElement('div');\n",
              "        docLink.innerHTML = docLinkHtml;\n",
              "        element.appendChild(docLink);\n",
              "      }\n",
              "    </script>\n",
              "  </div>\n",
              "\n",
              "\n",
              "<div id=\"df-c82ecbc0-714b-47ef-a3a9-eb4579e0bc40\">\n",
              "  <button class=\"colab-df-quickchart\" onclick=\"quickchart('df-c82ecbc0-714b-47ef-a3a9-eb4579e0bc40')\"\n",
              "            title=\"Suggest charts.\"\n",
              "            style=\"display:none;\">\n",
              "\n",
              "<svg xmlns=\"http://www.w3.org/2000/svg\" height=\"24px\"viewBox=\"0 0 24 24\"\n",
              "     width=\"24px\">\n",
              "    <g>\n",
              "        <path d=\"M19 3H5c-1.1 0-2 .9-2 2v14c0 1.1.9 2 2 2h14c1.1 0 2-.9 2-2V5c0-1.1-.9-2-2-2zM9 17H7v-7h2v7zm4 0h-2V7h2v10zm4 0h-2v-4h2v4z\"/>\n",
              "    </g>\n",
              "</svg>\n",
              "  </button>\n",
              "\n",
              "<style>\n",
              "  .colab-df-quickchart {\n",
              "      --bg-color: #E8F0FE;\n",
              "      --fill-color: #1967D2;\n",
              "      --hover-bg-color: #E2EBFA;\n",
              "      --hover-fill-color: #174EA6;\n",
              "      --disabled-fill-color: #AAA;\n",
              "      --disabled-bg-color: #DDD;\n",
              "  }\n",
              "\n",
              "  [theme=dark] .colab-df-quickchart {\n",
              "      --bg-color: #3B4455;\n",
              "      --fill-color: #D2E3FC;\n",
              "      --hover-bg-color: #434B5C;\n",
              "      --hover-fill-color: #FFFFFF;\n",
              "      --disabled-bg-color: #3B4455;\n",
              "      --disabled-fill-color: #666;\n",
              "  }\n",
              "\n",
              "  .colab-df-quickchart {\n",
              "    background-color: var(--bg-color);\n",
              "    border: none;\n",
              "    border-radius: 50%;\n",
              "    cursor: pointer;\n",
              "    display: none;\n",
              "    fill: var(--fill-color);\n",
              "    height: 32px;\n",
              "    padding: 0;\n",
              "    width: 32px;\n",
              "  }\n",
              "\n",
              "  .colab-df-quickchart:hover {\n",
              "    background-color: var(--hover-bg-color);\n",
              "    box-shadow: 0 1px 2px rgba(60, 64, 67, 0.3), 0 1px 3px 1px rgba(60, 64, 67, 0.15);\n",
              "    fill: var(--button-hover-fill-color);\n",
              "  }\n",
              "\n",
              "  .colab-df-quickchart-complete:disabled,\n",
              "  .colab-df-quickchart-complete:disabled:hover {\n",
              "    background-color: var(--disabled-bg-color);\n",
              "    fill: var(--disabled-fill-color);\n",
              "    box-shadow: none;\n",
              "  }\n",
              "\n",
              "  .colab-df-spinner {\n",
              "    border: 2px solid var(--fill-color);\n",
              "    border-color: transparent;\n",
              "    border-bottom-color: var(--fill-color);\n",
              "    animation:\n",
              "      spin 1s steps(1) infinite;\n",
              "  }\n",
              "\n",
              "  @keyframes spin {\n",
              "    0% {\n",
              "      border-color: transparent;\n",
              "      border-bottom-color: var(--fill-color);\n",
              "      border-left-color: var(--fill-color);\n",
              "    }\n",
              "    20% {\n",
              "      border-color: transparent;\n",
              "      border-left-color: var(--fill-color);\n",
              "      border-top-color: var(--fill-color);\n",
              "    }\n",
              "    30% {\n",
              "      border-color: transparent;\n",
              "      border-left-color: var(--fill-color);\n",
              "      border-top-color: var(--fill-color);\n",
              "      border-right-color: var(--fill-color);\n",
              "    }\n",
              "    40% {\n",
              "      border-color: transparent;\n",
              "      border-right-color: var(--fill-color);\n",
              "      border-top-color: var(--fill-color);\n",
              "    }\n",
              "    60% {\n",
              "      border-color: transparent;\n",
              "      border-right-color: var(--fill-color);\n",
              "    }\n",
              "    80% {\n",
              "      border-color: transparent;\n",
              "      border-right-color: var(--fill-color);\n",
              "      border-bottom-color: var(--fill-color);\n",
              "    }\n",
              "    90% {\n",
              "      border-color: transparent;\n",
              "      border-bottom-color: var(--fill-color);\n",
              "    }\n",
              "  }\n",
              "</style>\n",
              "\n",
              "  <script>\n",
              "    async function quickchart(key) {\n",
              "      const quickchartButtonEl =\n",
              "        document.querySelector('#' + key + ' button');\n",
              "      quickchartButtonEl.disabled = true;  // To prevent multiple clicks.\n",
              "      quickchartButtonEl.classList.add('colab-df-spinner');\n",
              "      try {\n",
              "        const charts = await google.colab.kernel.invokeFunction(\n",
              "            'suggestCharts', [key], {});\n",
              "      } catch (error) {\n",
              "        console.error('Error during call to suggestCharts:', error);\n",
              "      }\n",
              "      quickchartButtonEl.classList.remove('colab-df-spinner');\n",
              "      quickchartButtonEl.classList.add('colab-df-quickchart-complete');\n",
              "    }\n",
              "    (() => {\n",
              "      let quickchartButtonEl =\n",
              "        document.querySelector('#df-c82ecbc0-714b-47ef-a3a9-eb4579e0bc40 button');\n",
              "      quickchartButtonEl.style.display =\n",
              "        google.colab.kernel.accessAllowed ? 'block' : 'none';\n",
              "    })();\n",
              "  </script>\n",
              "</div>\n",
              "    </div>\n",
              "  </div>\n"
            ]
          },
          "metadata": {},
          "execution_count": 44
        }
      ],
      "source": [
        "df.head(20)"
      ]
    },
    {
      "cell_type": "markdown",
      "source": [],
      "metadata": {
        "id": "RHHZA93mFEFs"
      }
    },
    {
      "cell_type": "markdown",
      "source": [
        "# 1.Separe a base em treinamento e teste (25% para teste, 75% para treinamento).\n"
      ],
      "metadata": {
        "id": "culBqS3KFS1g"
      }
    },
    {
      "cell_type": "code",
      "source": [
        "# Separando o target e as features\n",
        "y_train = np.log(df[\"renda\"])\n",
        "X_train = df.drop(\"renda\", axis=1)\n",
        "y_test = np.log(df[\"renda\"])\n",
        "X_test = df.drop(\"renda\", axis=1)"
      ],
      "metadata": {
        "id": "zxTyXFroIciv"
      },
      "execution_count": 45,
      "outputs": []
    },
    {
      "cell_type": "code",
      "source": [
        "# Ajustando o OneHotEncoder\n",
        "encoder = OneHotEncoder(handle_unknown='ignore', drop='first')\n",
        "X_train_encoded = encoder.fit_transform(X_train)\n",
        "X_test_encoded = encoder.transform(X_test)"
      ],
      "metadata": {
        "id": "YZwAQyK9Qihz"
      },
      "execution_count": 46,
      "outputs": []
    },
    {
      "cell_type": "markdown",
      "source": [],
      "metadata": {
        "id": "YAg94t4TJxj7"
      }
    },
    {
      "cell_type": "markdown",
      "source": [
        "# 2. Rode uma regularização *ridge* com alpha = [0, 0.001, 0.005, 0.01, 0.05, 0.1] e avalie o $R^2$ na base de testes. Qual o melhor modelo?"
      ],
      "metadata": {
        "id": "i55xmd1KJ7dy"
      }
    },
    {
      "cell_type": "code",
      "source": [
        "alphas = [0, 0.001, 0.005, 0.01, 0.05, 0.1]\n",
        "ridge_results = {}\n",
        "\n",
        "for alpha in alphas:\n",
        "    ridge = Ridge(alpha=alpha)\n",
        "    ridge.fit(X_train_encoded, y_train)\n",
        "    predictions = ridge.predict(X_test_encoded)\n",
        "    r2 = r2_score(y_test, predictions)\n",
        "    ridge_results[alpha] = r2\n",
        "    print(f'Ride: alpha = {alpha}, r2 = {r2}')\n",
        "\n",
        "best_alpha_ridge = max(ridge_results, key=ridge_results.get)\n",
        "print(f\"Melhor alpha (Ridge): {best_alpha_ridge} com R^2 = {ridge_results[best_alpha_ridge]}\")\n"
      ],
      "metadata": {
        "colab": {
          "base_uri": "https://localhost:8080/"
        },
        "id": "G-cQTK8gK8LF",
        "outputId": "7f70ecba-43b0-4047-c09a-85c43c9d7fb8"
      },
      "execution_count": 47,
      "outputs": [
        {
          "output_type": "stream",
          "name": "stdout",
          "text": [
            "Ride: alpha = 0, r2 = 0.9999996527895966\n",
            "Ride: alpha = 0.001, r2 = 0.9999991040687036\n",
            "Ride: alpha = 0.005, r2 = 0.9999915596763116\n",
            "Ride: alpha = 0.01, r2 = 0.9999682519628522\n",
            "Ride: alpha = 0.05, r2 = 0.9992697626754319\n",
            "Ride: alpha = 0.1, r2 = 0.9973067902875641\n",
            "Melhor alpha (Ridge): 0 com R^2 = 0.9999996527895966\n"
          ]
        }
      ]
    },
    {
      "cell_type": "markdown",
      "source": [
        "O modelo que possui apenas dados estatisticamente relevantes e com menor Alpha é o 0.01, aumentando o Alpha acabamos perdendo variáveis relevantes ao modelo, portanto acredito que o melhor modelo seja o de Alpha = 0.01."
      ],
      "metadata": {
        "id": "zBqG96nyFzes"
      }
    },
    {
      "cell_type": "markdown",
      "source": [
        "# 3.Faça o mesmo que no passo 2, com uma regressão LASSO. Qual método chega a um melhor resultado?\n"
      ],
      "metadata": {
        "id": "SUmHZ7gQRETq"
      }
    },
    {
      "cell_type": "code",
      "source": [
        "lasso_results = {}\n",
        "\n",
        "for alpha in alphas:\n",
        "    lasso = Lasso(alpha=alpha)\n",
        "    lasso.fit(X_train_encoded, y_train)\n",
        "    predictions = lasso.predict(X_test_encoded)\n",
        "    r2 = r2_score(y_test, predictions)\n",
        "    lasso_results[alpha] = r2\n",
        "    print(f'Lasso: r2 = {r2}')\n",
        "\n",
        "best_alpha_lasso = max(lasso_results, key=lasso_results.get)\n",
        "print(f\"Melhor alpha (LASSO): {best_alpha_lasso} com R^2 = {lasso_results[best_alpha_lasso]}\")\n",
        "\n",
        "# Comparação\n",
        "if ridge_results[best_alpha_ridge] > lasso_results[best_alpha_lasso]:\n",
        "    print(\"Ridge tem um melhor R^2\")\n",
        "else:\n",
        "    print(\"LASSO tem um melhor R^2\")\n"
      ],
      "metadata": {
        "id": "0x3xeFXjQvcT",
        "colab": {
          "base_uri": "https://localhost:8080/"
        },
        "outputId": "16f491ed-bff3-455b-ff40-e5effe555611"
      },
      "execution_count": 48,
      "outputs": [
        {
          "output_type": "stream",
          "name": "stderr",
          "text": [
            "<ipython-input-48-2ca5eaf092f0>:5: UserWarning: With alpha=0, this algorithm does not converge well. You are advised to use the LinearRegression estimator\n",
            "  lasso.fit(X_train_encoded, y_train)\n"
          ]
        },
        {
          "output_type": "stream",
          "name": "stdout",
          "text": [
            "Lasso: r2 = 0.9999997482097542\n",
            "Lasso: r2 = 0.10872424239709133\n",
            "Lasso: r2 = 0.08293934697321426\n",
            "Lasso: r2 = 0.07371340868577747\n",
            "Lasso: r2 = 0.037630734733224425\n",
            "Lasso: r2 = 0.0\n",
            "Melhor alpha (LASSO): 0 com R^2 = 0.9999997482097542\n",
            "LASSO tem um melhor R^2\n"
          ]
        }
      ]
    },
    {
      "cell_type": "markdown",
      "source": [],
      "metadata": {
        "id": "xjQIb7QiRqVt"
      }
    },
    {
      "cell_type": "markdown",
      "source": [
        "# 4. Rode um modelo *stepwise*. Avalie o $R^2$ na base de testes. Qual o melhor resultado?"
      ],
      "metadata": {
        "id": "envWwdT_8E-6"
      }
    },
    {
      "cell_type": "code",
      "source": [
        "df1 = df.copy()\n",
        "df1.info()"
      ],
      "metadata": {
        "colab": {
          "base_uri": "https://localhost:8080/"
        },
        "id": "vCemyA5RAzao",
        "outputId": "db1866f6-9363-446e-d35c-805bf3216da4"
      },
      "execution_count": 49,
      "outputs": [
        {
          "output_type": "stream",
          "name": "stdout",
          "text": [
            "<class 'pandas.core.frame.DataFrame'>\n",
            "RangeIndex: 15000 entries, 0 to 14999\n",
            "Data columns (total 15 columns):\n",
            " #   Column                 Non-Null Count  Dtype  \n",
            "---  ------                 --------------  -----  \n",
            " 0   data_ref               15000 non-null  object \n",
            " 1   index                  15000 non-null  int64  \n",
            " 2   sexo                   15000 non-null  object \n",
            " 3   posse_de_veiculo       15000 non-null  bool   \n",
            " 4   posse_de_imovel        15000 non-null  bool   \n",
            " 5   qtd_filhos             15000 non-null  int64  \n",
            " 6   tipo_renda             15000 non-null  object \n",
            " 7   educacao               15000 non-null  object \n",
            " 8   estado_civil           15000 non-null  object \n",
            " 9   tipo_residencia        15000 non-null  object \n",
            " 10  idade                  15000 non-null  int64  \n",
            " 11  tempo_emprego          12466 non-null  float64\n",
            " 12  qt_pessoas_residencia  15000 non-null  float64\n",
            " 13  mau                    15000 non-null  bool   \n",
            " 14  renda                  15000 non-null  float64\n",
            "dtypes: bool(3), float64(3), int64(3), object(6)\n",
            "memory usage: 1.4+ MB\n"
          ]
        }
      ]
    },
    {
      "cell_type": "code",
      "source": [
        "import pandas as pd\n",
        "import statsmodels.api as sm\n",
        "from sklearn.model_selection import train_test_split\n",
        "from sklearn.metrics import r2_score\n",
        "\n",
        "# 1. Remover a coluna data_ref\n",
        "df1 = df1.drop('data_ref', axis=1)\n",
        "\n",
        "# 2. Converter colunas categóricas para representações numéricas\n",
        "df1 = pd.get_dummies(df1, drop_first=True)\n",
        "\n",
        "# Converta colunas booleanas para int\n",
        "for col in ['posse_de_veiculo', 'posse_de_imovel', 'mau']:\n",
        "    df1[col] = df1[col].astype(int)\n",
        "\n",
        "# Tratar NaNs\n",
        "df1.fillna(df1.mean(), inplace=True)\n",
        "\n",
        "# Dividir em treino e teste\n",
        "X = df1.drop('renda', axis=1)\n",
        "y = df1['renda']\n",
        "X_train, X_test, y_train, y_test = train_test_split(X, y, test_size=0.3, random_state=42)\n",
        "\n",
        "# Seleção de variáveis stepwise (backward)\n",
        "X_train_const = sm.add_constant(X_train)\n",
        "model = sm.OLS(y_train, X_train_const).fit()\n",
        "\n",
        "while True:\n",
        "    p_values = model.pvalues.drop('const')\n",
        "    max_p_value = p_values.max()\n",
        "    if max_p_value > 0.05:\n",
        "        drop_var = p_values.idxmax()\n",
        "        X_train_const = X_train_const.drop(drop_var, axis=1)\n",
        "        model = sm.OLS(y_train, X_train_const).fit()\n",
        "    else:\n",
        "        break\n",
        "\n",
        "# Avaliação no conjunto de teste\n",
        "X_test_const = sm.add_constant(X_test[X_train_const.columns.drop('const')])\n",
        "y_pred = model.predict(X_test_const)\n",
        "r2 = r2_score(y_test, y_pred)\n",
        "print(f\"R^2 no conjunto de teste: {r2:.2f}\")\n"
      ],
      "metadata": {
        "colab": {
          "base_uri": "https://localhost:8080/"
        },
        "id": "-U0MjaMGD08q",
        "outputId": "ebb68049-8ad0-4d29-c6c5-1aaefd313a1e"
      },
      "execution_count": 50,
      "outputs": [
        {
          "output_type": "stream",
          "name": "stdout",
          "text": [
            "R^2 no conjunto de teste: 0.24\n"
          ]
        }
      ]
    },
    {
      "cell_type": "markdown",
      "source": [
        "# 5.Compare os parâmetros e avalie eventuais diferenças. Qual modelo você acha o melhor de todos?\n",
        "\n",
        "As três regressões acabam sendo boas, excluiria o modelo da Regressão de Ridge devido a quantidade de variáveis explicativas, e escolho a LASSO como melhor de todos."
      ],
      "metadata": {
        "id": "XM0mpQO_F-nj"
      }
    },
    {
      "cell_type": "markdown",
      "source": [
        "# 6. Partindo dos modelos que você ajustou, tente melhorar o $R^2$ na base de testes. Use a criatividade, veja se consegue inserir alguma transformação ou combinação de variáveis.\n"
      ],
      "metadata": {
        "id": "ggb6qsQrGokn"
      }
    },
    {
      "cell_type": "code",
      "source": [
        "# Transformação logarítmica\n",
        "df1['log_renda'] = np.log(df1['renda'])"
      ],
      "metadata": {
        "id": "SvlPPECFGuwp"
      },
      "execution_count": 59,
      "outputs": []
    },
    {
      "cell_type": "code",
      "source": [
        "# Interação entre variáveis\n",
        "df1['idade_tempo_emprego'] = df1['idade'] * df1['tempo_emprego']\n"
      ],
      "metadata": {
        "id": "q1Mkz_bEHAvm"
      },
      "execution_count": 60,
      "outputs": []
    },
    {
      "cell_type": "code",
      "source": [
        "# Variável polinomial\n",
        "df1['idade_quadrado'] = df1['idade'] ** 2\n"
      ],
      "metadata": {
        "id": "xKv_0ZpNHGs0"
      },
      "execution_count": 61,
      "outputs": []
    },
    {
      "cell_type": "code",
      "source": [
        "# Separando o target e as features\n",
        "y1_train = np.log(df1[\"renda\"])\n",
        "X1_train = df1.drop(\"renda\", axis=1)\n",
        "y1_test = np.log(df1[\"renda\"])\n",
        "X1_test = df1.drop(\"renda\", axis=1)"
      ],
      "metadata": {
        "id": "_7H7xrm7HQdJ"
      },
      "execution_count": 62,
      "outputs": []
    },
    {
      "cell_type": "code",
      "source": [
        "# Ajustando o OneHotEncoder\n",
        "encoder = OneHotEncoder(handle_unknown='ignore', drop='first')\n",
        "X_train_encoded1 = encoder.fit_transform(X1_train)\n",
        "X_test_encoded1 = encoder.transform(X1_test)"
      ],
      "metadata": {
        "id": "Q1RsXEeKHag9"
      },
      "execution_count": 63,
      "outputs": []
    },
    {
      "cell_type": "code",
      "source": [
        "alphas = [0, 0.001, 0.005, 0.01, 0.05, 0.1]\n",
        "ridge_results = {}\n",
        "\n",
        "for alpha in alphas:\n",
        "    ridge = Ridge(alpha=alpha)\n",
        "    ridge.fit(X_train_encoded1, y1_train)\n",
        "    predictions = ridge.predict(X_test_encoded1)\n",
        "    r2 = r2_score(y1_test, predictions)\n",
        "    ridge_results[alpha] = r2\n",
        "    print(f'Ride: alpha = {alpha}, r2 = {r2}')\n",
        "\n",
        "best_alpha_ridge = max(ridge_results, key=ridge_results.get)\n",
        "print(f\"Melhor alpha (Ridge): {best_alpha_ridge} com R^2 = {ridge_results[best_alpha_ridge]}\")"
      ],
      "metadata": {
        "colab": {
          "base_uri": "https://localhost:8080/"
        },
        "id": "9LSE-_PhHdb3",
        "outputId": "54f7ca0a-b527-417d-a4a5-827f991edbb7"
      },
      "execution_count": 64,
      "outputs": [
        {
          "output_type": "stream",
          "name": "stdout",
          "text": [
            "Ride: alpha = 0, r2 = 0.9999999947161793\n",
            "Ride: alpha = 0.001, r2 = 0.9999999256820972\n",
            "Ride: alpha = 0.005, r2 = 0.9999982757762934\n",
            "Ride: alpha = 0.01, r2 = 0.9999931501007896\n",
            "Ride: alpha = 0.05, r2 = 0.9998343521127169\n",
            "Ride: alpha = 0.1, r2 = 0.9993630942805221\n",
            "Melhor alpha (Ridge): 0 com R^2 = 0.9999999947161793\n"
          ]
        }
      ]
    },
    {
      "cell_type": "markdown",
      "source": [
        "# 7. Ajuste uma árvore de regressão e veja se consegue um $R^2$ melhor com ela."
      ],
      "metadata": {
        "id": "fD4LxxciGsia"
      }
    },
    {
      "cell_type": "code",
      "source": [
        "from sklearn.tree import DecisionTreeRegressor\n",
        "\n",
        "tree_regressor = DecisionTreeRegressor(max_depth=5)  # Você pode ajustar a profundidade máxima como quiser\n",
        "tree_regressor.fit(X1_train, y1_train)\n",
        "\n",
        "y_pred_tree = tree_regressor.predict(X1_test)\n",
        "r2_tree = r2_score(y1_test, y_pred_tree)\n",
        "\n",
        "print(f\"R^2 para Árvore de Regressão: {r2_tree}\")\n"
      ],
      "metadata": {
        "colab": {
          "base_uri": "https://localhost:8080/"
        },
        "id": "RFihuiAvGZk3",
        "outputId": "6681af86-d5f5-43e1-9312-dbc04fab5d72"
      },
      "execution_count": 67,
      "outputs": [
        {
          "output_type": "stream",
          "name": "stdout",
          "text": [
            "R^2 para Árvore de Regressão: 0.9974303425136081\n"
          ]
        }
      ]
    }
  ],
  "metadata": {
    "kernelspec": {
      "display_name": "Python 3",
      "language": "python",
      "name": "python3"
    },
    "language_info": {
      "codemirror_mode": {
        "name": "ipython",
        "version": 3
      },
      "file_extension": ".py",
      "mimetype": "text/x-python",
      "name": "python",
      "nbconvert_exporter": "python",
      "pygments_lexer": "ipython3",
      "version": "3.8.5"
    },
    "colab": {
      "provenance": [],
      "include_colab_link": true
    }
  },
  "nbformat": 4,
  "nbformat_minor": 0
}