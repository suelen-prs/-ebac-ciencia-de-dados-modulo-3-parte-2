{
  "nbformat": 4,
  "nbformat_minor": 0,
  "metadata": {
    "colab": {
      "provenance": [],
      "authorship_tag": "ABX9TyN4OFe2cdBxWtrYr9E7xBCc",
      "include_colab_link": true
    },
    "kernelspec": {
      "name": "python3",
      "display_name": "Python 3"
    },
    "language_info": {
      "name": "python"
    }
  },
  "cells": [
    {
      "cell_type": "markdown",
      "metadata": {
        "id": "view-in-github",
        "colab_type": "text"
      },
      "source": [
        "<a href=\"https://colab.research.google.com/github/suelen-prs/-ebac-ciencia-de-dados-modulo-3-parte-2/blob/master/Exercicio1_Modulo23.ipynb\" target=\"_parent\"><img src=\"https://colab.research.google.com/assets/colab-badge.svg\" alt=\"Open In Colab\"/></a>"
      ]
    },
    {
      "cell_type": "markdown",
      "source": [
        "#1. Monte um passo a passo para o Bagging"
      ],
      "metadata": {
        "id": "CFUwgnHrz-Yh"
      }
    },
    {
      "cell_type": "markdown",
      "source": [
        "O Bagging, ou Bootstrap Aggregating, é uma técnica de Machine Learning para reduzir a variância de um modelo de previsão.\n",
        "Passo a passo simplificado de como implementar o Bagging:\n",
        "\n",
        "**Bootstrap:** Crie múltiplos conjuntos de dados de treinamento a partir do conjunto original, utilizando amostragem com reposição. Isso significa que alguns pontos de dados podem aparecer mais de uma vez em um mesmo conjunto de treinamento, enquanto outros podem não aparecer.\n",
        "\n",
        "**Modelagem:** Treine um modelo separado em cada um desses conjuntos. Geralmente, os modelos são do mesmo tipo, mas treinados com diferentes subconjuntos de dados. O Bagging é frequentemente utilizado com árvores de decisão, mas pode ser aplicado a qualquer tipo de modelo.\n",
        "\n",
        "**Agregação:** Combine as previsões de todos os modelos individuais. Para problemas de regressão, isso é feito tipicamente calculando a média das previsões. Para problemas de classificação, a votação majoritária é usada (ou, em alguns casos, a média das probabilidades previstas)."
      ],
      "metadata": {
        "id": "2NVWPeOI0R14"
      }
    },
    {
      "cell_type": "markdown",
      "source": [
        "# 2. Explique com suas palavras o Bagging:"
      ],
      "metadata": {
        "id": "4-hAMiAp0Ct2"
      }
    },
    {
      "cell_type": "markdown",
      "source": [
        "Bagging, ou Bootstrap Aggregating, é uma técnica de ensemble que visa melhorar a estabilidade e a precisão de algoritmos de machine learning. Ela funciona treinando múltiplos modelos em subconjuntos ligeiramente diferentes do conjunto de dados de treinamento e, em seguida, combinando as previsões desses modelos. A chave aqui é a amostragem com reposição, que cria variações nos conjuntos de dados de treinamento e, por sua vez, nos modelos treinados.\n",
        "\n",
        "Ao fazer isso, o Bagging pode reduzir a variância sem aumentar o viés. Isso significa que, enquanto cada modelo individual pode ter um desempenho pior em alguma parte específica do espaço dos dados, a previsão agregada de todos os modelos será mais robusta e menos propensa a overfitting. É especialmente eficaz em modelos com alta variância (como árvores de decisão profundas)."
      ],
      "metadata": {
        "id": "Mu4jNPda0u3s"
      }
    },
    {
      "cell_type": "markdown",
      "source": [
        "# 3. (Opcional) Implementar em pytho no código do Bagging–Bootstrap–Modelagem–Agregação:"
      ],
      "metadata": {
        "id": "YyrAeBOW0F-O"
      }
    },
    {
      "cell_type": "code",
      "source": [
        "from sklearn.ensemble import BaggingRegressor\n",
        "from sklearn.tree import DecisionTreeRegressor\n",
        "from sklearn.datasets import fetch_california_housing\n",
        "from sklearn.model_selection import train_test_split\n",
        "\n",
        "# Carregar um conjunto de dados de exemplo (Califórnia housing)\n",
        "data = fetch_california_housing()\n",
        "X, y = data.data, data.target\n",
        "\n",
        "# Dividir o conjunto de dados em treinamento e teste\n",
        "X_train, X_test, y_train, y_test = train_test_split(X, y, test_size=0.2, random_state=42)\n",
        "\n",
        "# Instanciar o modelo base (árvore de decisão)\n",
        "base_estimator = DecisionTreeRegressor()\n",
        "\n",
        "# Instanciar o modelo de Bagging usando árvores de decisão como estimadores base\n",
        "bagging_model = BaggingRegressor(base_estimator=base_estimator, n_estimators=10, random_state=42)\n",
        "\n",
        "# Treinar o modelo de Bagging\n",
        "bagging_model.fit(X_train, y_train)\n",
        "\n",
        "# Avaliar o modelo no conjunto de teste\n",
        "score = bagging_model.score(X_test, y_test)\n",
        "\n",
        "print(f\"Score do modelo de Bagging: {score}\")\n",
        "\n"
      ],
      "metadata": {
        "colab": {
          "base_uri": "https://localhost:8080/"
        },
        "id": "LgaRQ1rL0AIY",
        "outputId": "b847b710-3d7e-49bd-d82f-36e998272076"
      },
      "execution_count": 2,
      "outputs": [
        {
          "output_type": "stream",
          "name": "stderr",
          "text": [
            "/usr/local/lib/python3.10/dist-packages/sklearn/ensemble/_base.py:166: FutureWarning: `base_estimator` was renamed to `estimator` in version 1.2 and will be removed in 1.4.\n",
            "  warnings.warn(\n"
          ]
        },
        {
          "output_type": "stream",
          "name": "stdout",
          "text": [
            "Score do modelo de Bagging: 0.7844762342339637\n"
          ]
        }
      ]
    },
    {
      "cell_type": "code",
      "source": [],
      "metadata": {
        "id": "asUYFSLY03Ib"
      },
      "execution_count": null,
      "outputs": []
    }
  ]
}