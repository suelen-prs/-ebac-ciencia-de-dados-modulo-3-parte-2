{
  "cells": [
    {
      "cell_type": "code",
      "execution_count": 2,
      "metadata": {
        "id": "fFhFteHV695k"
      },
      "outputs": [],
      "source": [
        "import numpy as np"
      ]
    },
    {
      "cell_type": "markdown",
      "metadata": {
        "id": "YLWEzg3N695m"
      },
      "source": [
        "### 1) Alturas  \n",
        "i. No trecho de código abaixo, crie um ndarray chamado ```altura_em_centimetros``` transformando a lista ```lista_de_alturas``` em um ndarray do numpy com a função ```np.array()```  \n",
        "ii. Crie um outro objeto ```altura_em_metros```, com os valores de ```altura_em_centimetros``` convertidos para metros."
      ]
    },
    {
      "cell_type": "code",
      "execution_count": 7,
      "metadata": {
        "id": "tx6DbJk7695o",
        "colab": {
          "base_uri": "https://localhost:8080/"
        },
        "outputId": "a4676864-b626-4a42-d56f-eca2f6ddb964"
      },
      "outputs": [
        {
          "output_type": "execute_result",
          "data": {
            "text/plain": [
              "[170, 175, 180, 185]"
            ]
          },
          "metadata": {},
          "execution_count": 7
        }
      ],
      "source": [
        "lista_de_centimetros = list(range(170, 190, 5))\n",
        "lista_de_centimetros"
      ]
    },
    {
      "cell_type": "code",
      "execution_count": 8,
      "metadata": {
        "id": "-tXC4lyT695o",
        "colab": {
          "base_uri": "https://localhost:8080/"
        },
        "outputId": "bcbab4cf-69ee-4333-bd4a-1305fb5d1981"
      },
      "outputs": [
        {
          "output_type": "execute_result",
          "data": {
            "text/plain": [
              "array([170, 175, 180, 185])"
            ]
          },
          "metadata": {},
          "execution_count": 8
        }
      ],
      "source": [
        "altura_em_centimetros = np.array(lista_de_centimetros)\n",
        "altura_em_centimetros"
      ]
    },
    {
      "cell_type": "code",
      "execution_count": 9,
      "metadata": {
        "id": "zFDQt9_K695p",
        "colab": {
          "base_uri": "https://localhost:8080/"
        },
        "outputId": "7aa89f93-f0f6-4e3e-a1bc-b8d76b4a2a4b"
      },
      "outputs": [
        {
          "output_type": "execute_result",
          "data": {
            "text/plain": [
              "array([1.7 , 1.75, 1.8 , 1.85])"
            ]
          },
          "metadata": {},
          "execution_count": 9
        }
      ],
      "source": [
        "altura_em_metros = altura_em_centimetros /100\n",
        "altura_em_metros"
      ]
    },
    {
      "cell_type": "markdown",
      "metadata": {
        "id": "hlsDzubv695p"
      },
      "source": [
        "### 2) IMC  \n",
        "i. Considere que pesos em Kg dessas pessoas, na mesma ortem, estão na lista pesos ```lista_pesos = [70, 75, 80, 85]```. Crie um **ndarray** chamado ```pesos``` com a função ```np.array()``` que contenha esses valores.  \n",
        "ii. Utilizando o objeto que contém as alturas em metros e esse objeto que contém os respectivos pesos em quilos, calcule o IMC desses indivíduos utilizando a aritmética de arrays e guarde os resultados em um objeto chamado ```imc```."
      ]
    },
    {
      "cell_type": "code",
      "execution_count": 11,
      "metadata": {
        "id": "YL87C0It695p",
        "outputId": "3b8dc3fd-4428-4de8-9095-1b26c5eb179c",
        "colab": {
          "base_uri": "https://localhost:8080/"
        }
      },
      "outputs": [
        {
          "output_type": "execute_result",
          "data": {
            "text/plain": [
              "[70, 75, 80, 85]"
            ]
          },
          "metadata": {},
          "execution_count": 11
        }
      ],
      "source": [
        "lista_pesos = [70, 75, 80, 85]\n",
        "lista_pesos_nova = np.array(lista_pesos)\n",
        "# seu código aqui\n",
        "lista_pesos"
      ]
    },
    {
      "cell_type": "code",
      "execution_count": 12,
      "metadata": {
        "id": "WgZtY2Ox695q"
      },
      "outputs": [],
      "source": [
        "# calcule o IMC dessas pessoas\n",
        "imc = lista_pesos_nova / altura_em_metros ** 2"
      ]
    },
    {
      "cell_type": "markdown",
      "metadata": {
        "id": "k1JIBxZb695r"
      },
      "source": [
        "### 3) Endividamento\n",
        "\n",
        "Cálculos de novas variáveis como endividamento total e comprometimento de renda são essenciais para a construção de modelos financeiros em ciência de dados. Áreas não financeiras terão cálculos semelhantes também. Vamos praticar:\n",
        "\n",
        "Considere que o seguinte ndarray contém os dados de 4 pessoas, total a ser pago a empréstimos mensalmente e renda familiar:\n",
        "\n",
        "| custo fixo | dívida financeira | renda familiar |\n",
        "|:----:|:----:|:---|\n",
        "| 3000  | 1000 | 6000 |\n",
        "| 2500  | 2500 | 5500 |\n",
        "| 1000  | 3000 | 7000 |\n",
        "| 10000 | 5000 | 16000 |\n",
        "\n",
        "i. Transforme a lista de listas ```dados_financeiros``` no ndarray ```nd_financeiros```.\n",
        "> ``` dados_financeiros[[3000, 2500, 1000, 10000],[1000, 2500, 3000, 5000],[6000, 5500, 7000, 16000]] ```\n",
        "\n",
        "ii. Utilize o método ```.transpose ``` e certifique-se de que esse ndarray tenha uma linha por indivíduo e uma coluna por informação. Utilizando a indexação do numpy, imprima no output a segunda linha do array, depois a segunda coluna.\n",
        "\n",
        "iii. Pratique aritmética com nearrays e calcule o endividamento total como:\n",
        "$$endividamento\\hspace{.2cm}total = \\frac{custo \\hspace{.2cm}fixo + dívida\\hspace{.2cm}financeira}{renda\\hspace{.2cm}familiar}$$\n",
        "Guarde os resultados em uma variável chamada ```endividamento_total``` e verifique os resultados imprimindo o conteúdo dessa variável no output.\n",
        "\n",
        "iv. Considere que há um erro de digitação que precisa ser corrigido: 3o indivíduo na verdade não possui renda familiar de R\\\\$7.000,00, mas sim R\\\\$ 10.000,00. Corrija esse valor e refaça os cálculos."
      ]
    },
    {
      "cell_type": "code",
      "execution_count": 17,
      "metadata": {
        "id": "k17jw6kT695r",
        "colab": {
          "base_uri": "https://localhost:8080/"
        },
        "outputId": "2f9c3bb4-6cd4-4d0a-bb68-61635b72a2bc"
      },
      "outputs": [
        {
          "output_type": "execute_result",
          "data": {
            "text/plain": [
              "[[3000, 2500, 1000, 10000],\n",
              " [1000, 2500, 3000, 5000],\n",
              " [6000, 5500, 7000, 16000]]"
            ]
          },
          "metadata": {},
          "execution_count": 17
        }
      ],
      "source": [
        "# lista dados_financeiros\n",
        "dados_financeiros = [[3000, 2500, 1000, 10000],[1000, 2500, 3000, 5000],[6000, 5500, 7000, 16000]]\n",
        "\n",
        "#i) transforme essa lista em um ndarray\n",
        "nd_dados_financeiros = np.array(dados_financeiros)\n",
        "dados_financeiros"
      ]
    },
    {
      "cell_type": "code",
      "execution_count": 18,
      "metadata": {
        "id": "ecRsPjml695r",
        "colab": {
          "base_uri": "https://localhost:8080/"
        },
        "outputId": "054532dd-6af1-4a58-8126-2630acf6f45f"
      },
      "outputs": [
        {
          "output_type": "execute_result",
          "data": {
            "text/plain": [
              "array([1000, 2500, 3000, 5000])"
            ]
          },
          "metadata": {},
          "execution_count": 18
        }
      ],
      "source": [
        "# ii)\n",
        "nd_dados_financeiros = nd_dados_financeiros.transpose()\n",
        "nd_dados_financeiros[:,1]"
      ]
    },
    {
      "cell_type": "code",
      "execution_count": 19,
      "metadata": {
        "id": "RgMG-t9-695s",
        "colab": {
          "base_uri": "https://localhost:8080/"
        },
        "outputId": "78181a2a-bd99-4b23-c689-e8cae280ab31"
      },
      "outputs": [
        {
          "output_type": "execute_result",
          "data": {
            "text/plain": [
              "array([0.66666667, 0.90909091, 0.57142857, 0.9375    ])"
            ]
          },
          "metadata": {},
          "execution_count": 19
        }
      ],
      "source": [
        "# iii) Calcule o endividamento total\n",
        "endividamento_total = (nd_dados_financeiros[:,0] + nd_dados_financeiros[:,1]) / nd_dados_financeiros[:,2]\n",
        "endividamento_total"
      ]
    },
    {
      "cell_type": "code",
      "execution_count": 20,
      "metadata": {
        "id": "FxaSHRgy695t",
        "colab": {
          "base_uri": "https://localhost:8080/"
        },
        "outputId": "777e98f7-263c-4376-cf31-eea593cd4187"
      },
      "outputs": [
        {
          "output_type": "execute_result",
          "data": {
            "text/plain": [
              "array([[ 3000,  1000,  6000],\n",
              "       [ 2500,  2500,  5500],\n",
              "       [ 1000,  3000,  7000],\n",
              "       [10000, 10000, 16000]])"
            ]
          },
          "metadata": {},
          "execution_count": 20
        }
      ],
      "source": [
        "# iv) corrigindo um valor específico\n",
        "nd_dados_financeiros[-1,-2] = 10000\n",
        "nd_dados_financeiros"
      ]
    },
    {
      "cell_type": "code",
      "execution_count": null,
      "metadata": {
        "id": "OYxfd00O695t"
      },
      "outputs": [],
      "source": []
    },
    {
      "cell_type": "markdown",
      "metadata": {
        "id": "RghMgSOX695t"
      },
      "source": [
        "### 4) É muito comum precisarmos identificar valores especiais e darmos tratamento a eles quer seja alterando-os quer seja descartando-os. \n",
        "\n",
        "O trecho de código abaixo gera um ndarray com números pseudo aleatórios. Considere que para efeitos do estudo que virá, devemos desconsiderar valores iguais a zero. Sendo assim:\n",
        "\n",
        "i) crie um objeto ```bool_zero``` que traga uma sequencia de booleanos do mesmo tamanho que o objeto poi, e que vale ```True``` quando o valor de ```poi``` é zero, e ```False``` caso contrário.\n",
        "\n",
        "ii) Conte quantos valores zero existem. Lembre-se de que no final das contas, ```True``` vale 1 para o Python, e ```False``` vale zero, então uma boa dica seria usar a função ```sum()```.\n",
        "\n",
        "iii) Utilize a indexação booleana que você aprendeu para criar uma variável ```poi_nao_zero``` que aponta para os elementos de ```poi``` diferentes de zero. Dica: você vai pode inverter os elementos do objeto que criou em *ii)* ou escrever a comparação adequada."
      ]
    },
    {
      "cell_type": "code",
      "execution_count": 21,
      "metadata": {
        "id": "Y6JUhNiT695t",
        "outputId": "bd03fedc-18dc-403a-80df-609ae7190324",
        "colab": {
          "base_uri": "https://localhost:8080/"
        }
      },
      "outputs": [
        {
          "output_type": "execute_result",
          "data": {
            "text/plain": [
              "array([3, 3, 6, 2, 4, 5, 4, 4, 2, 0, 3, 3, 2, 8, 2, 3, 3, 3, 0, 4, 4, 2,\n",
              "       6, 6, 0, 3, 4, 3, 5, 2, 1, 3, 2, 2, 3, 2, 4, 4, 5, 7, 3, 5, 3, 3,\n",
              "       2, 2, 3, 6, 2, 2, 4, 3, 5, 2, 5, 3, 0, 2, 1, 1, 4, 4, 4, 6, 2, 4,\n",
              "       1, 2, 5, 5, 3, 4, 1, 4, 1, 1, 7, 1, 2, 1, 3, 7, 0, 4, 4, 0, 6, 1,\n",
              "       3, 4, 2, 5, 4, 5, 5, 3, 4, 6, 8, 2])"
            ]
          },
          "metadata": {},
          "execution_count": 21
        }
      ],
      "source": [
        "# objeto poi - obs: o comando np.random.seed(1234) garante que o mesmo resultado será gerado sempre\n",
        "np.random.seed(1234)\n",
        "poi = np.random.poisson(3, 100)\n",
        "poi"
      ]
    },
    {
      "cell_type": "code",
      "execution_count": 22,
      "metadata": {
        "id": "dWElD2MJ695u",
        "colab": {
          "base_uri": "https://localhost:8080/"
        },
        "outputId": "9752b810-6764-4871-e5d6-5a0b389bcab2"
      },
      "outputs": [
        {
          "output_type": "execute_result",
          "data": {
            "text/plain": [
              "array([False, False, False, False, False, False, False, False, False,\n",
              "        True, False, False, False, False, False, False, False, False,\n",
              "        True, False, False, False, False, False,  True, False, False,\n",
              "       False, False, False, False, False, False, False, False, False,\n",
              "       False, False, False, False, False, False, False, False, False,\n",
              "       False, False, False, False, False, False, False, False, False,\n",
              "       False, False,  True, False, False, False, False, False, False,\n",
              "       False, False, False, False, False, False, False, False, False,\n",
              "       False, False, False, False, False, False, False, False, False,\n",
              "       False,  True, False, False,  True, False, False, False, False,\n",
              "       False, False, False, False, False, False, False, False, False,\n",
              "       False])"
            ]
          },
          "metadata": {},
          "execution_count": 22
        }
      ],
      "source": [
        "# i) crie o objeto bool_zero através do operador ==,\n",
        "bool_zero = poi == 0\n",
        "bool_zero\n"
      ]
    },
    {
      "cell_type": "code",
      "execution_count": 23,
      "metadata": {
        "id": "hr-knXzs695u",
        "colab": {
          "base_uri": "https://localhost:8080/"
        },
        "outputId": "a8c08185-b739-4ea4-f93c-6fee06a9af65"
      },
      "outputs": [
        {
          "output_type": "execute_result",
          "data": {
            "text/plain": [
              "6"
            ]
          },
          "metadata": {},
          "execution_count": 23
        }
      ],
      "source": [
        "# ii) Conte a quantidade de zeros (ou some os elementos de bool_zero)\n",
        "sum(bool_zero)"
      ]
    },
    {
      "cell_type": "code",
      "execution_count": 24,
      "metadata": {
        "id": "5s3DqCup695u",
        "colab": {
          "base_uri": "https://localhost:8080/"
        },
        "outputId": "978f314a-7b03-46d3-dc68-f34307bf0468"
      },
      "outputs": [
        {
          "output_type": "execute_result",
          "data": {
            "text/plain": [
              "array([3, 3, 6, 2, 4, 5, 4, 4, 2, 3, 3, 2, 8, 2, 3, 3, 3, 4, 4, 2, 6, 6,\n",
              "       3, 4, 3, 5, 2, 1, 3, 2, 2, 3, 2, 4, 4, 5, 7, 3, 5, 3, 3, 2, 2, 3,\n",
              "       6, 2, 2, 4, 3, 5, 2, 5, 3, 2, 1, 1, 4, 4, 4, 6, 2, 4, 1, 2, 5, 5,\n",
              "       3, 4, 1, 4, 1, 1, 7, 1, 2, 1, 3, 7, 4, 4, 6, 1, 3, 4, 2, 5, 4, 5,\n",
              "       5, 3, 4, 6, 8, 2])"
            ]
          },
          "metadata": {},
          "execution_count": 24
        }
      ],
      "source": [
        "# iii) utilize a indexação booleana para criar uma seleção de não-zeros\n",
        "# dica: inverta o objeto bool_zero\n",
        "poi_nao_zero = poi[~bool_zero]\n",
        "poi_nao_zero"
      ]
    },
    {
      "cell_type": "code",
      "source": [],
      "metadata": {
        "id": "TAidTErE8VgG"
      },
      "execution_count": null,
      "outputs": []
    }
  ],
  "metadata": {
    "kernelspec": {
      "display_name": "Python 3",
      "language": "python",
      "name": "python3"
    },
    "language_info": {
      "codemirror_mode": {
        "name": "ipython",
        "version": 3
      },
      "file_extension": ".py",
      "mimetype": "text/x-python",
      "name": "python",
      "nbconvert_exporter": "python",
      "pygments_lexer": "ipython3",
      "version": "3.8.5"
    },
    "colab": {
      "provenance": []
    }
  },
  "nbformat": 4,
  "nbformat_minor": 0
}